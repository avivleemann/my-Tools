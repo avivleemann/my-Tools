{
 "cells": [
  {
   "cell_type": "markdown",
   "metadata": {},
   "source": [
    "# My Tools\n",
    "\n",
    "> workdir calss - for easy work with directories\n",
    "\n",
    "> Mylogger class - for easy logging"
   ]
  },
  {
   "cell_type": "code",
   "execution_count": null,
   "metadata": {},
   "outputs": [],
   "source": [
    "#| default_exp core"
   ]
  },
  {
   "cell_type": "code",
   "execution_count": null,
   "metadata": {},
   "outputs": [],
   "source": [
    "#| hide\n",
    "from nbdev.showdoc import *"
   ]
  },
  {
   "cell_type": "code",
   "execution_count": null,
   "metadata": {},
   "outputs": [],
   "source": [
    "#| export\n",
    "\n",
    "from dataclasses import dataclass\n",
    "from pathlib import Path\n",
    "import logging\n",
    "\n",
    "@dataclass\n",
    "class workDir:\n",
    "    dir : Path = Path('__file__').resolve().parent\n",
    "    figures : Path = dir / 'figures'\n",
    "    data : Path = dir / 'data'\n",
    "    results : Path = dir / 'results'\n",
    "    logs : Path = dir / 'logs'\n",
    "    \n",
    "    __post_init__ = lambda self: [x.mkdir(parents=True, exist_ok=True) for x in self.__dict__.values() if isinstance(x, Path)]\n",
    "\n",
    "\n",
    "@dataclass\n",
    "class MyLogger:\n",
    "    name: str\n",
    "    log_file: str\n",
    "    \n",
    "    def __post_init__(self):\n",
    "        formatter = logging.Formatter(\"%(asctime)s - %(levelname)s - %(message)s\", \"%Y-%m-%d %H:%M:%S\")\n",
    "        handler = logging.FileHandler(self.log_file, mode='w')\n",
    "        handler.setFormatter(formatter)\n",
    "        self.logger = logging.getLogger(self.name)\n",
    "        self.logger.setLevel(logging.DEBUG)\n",
    "        self.logger.addHandler(handler)\n",
    "        \n",
    "    @property\n",
    "    def get(self)->logging.Logger:\n",
    "        return self.logger"
   ]
  },
  {
   "cell_type": "code",
   "execution_count": null,
   "metadata": {},
   "outputs": [],
   "source": [
    "#| hide\n",
    "import nbdev; nbdev.nbdev_export()"
   ]
  }
 ],
 "metadata": {
  "kernelspec": {
   "display_name": "python3",
   "language": "python",
   "name": "python3"
  }
 },
 "nbformat": 4,
 "nbformat_minor": 4
}
